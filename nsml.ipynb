{
 "cells": [
  {
   "cell_type": "code",
   "execution_count": 2,
   "metadata": {},
   "outputs": [],
   "source": [
    "import torch.nn as nn\n",
    "class Regression(nn.Module):\n",
    "    def __init__(self, embedding_dim, max_length):\n",
    "        super(Regression,self).__init__()\n",
    "        self.embedding_dim = embedding_dim\n",
    "        self.character_size = 251\n",
    "        self.output_dim = 1\n",
    "        self.max_length = max_length\n",
    "        \n",
    "        self.embeddings = nn.Embedding(self.character_size, self.embedding_dim)\n",
    "        \n",
    "        self.fc1 = nn.Linear(max_length*embedding_dim, 200)\n",
    "        self.fc2 = nn.Linear(200,1)\n",
    "        \n",
    "    def forward(self, data):\n",
    "        batch_size = len(data)\n",
    "        \n",
    "        preprocessed = [decompose_str_as_one_hot(\n",
    "            datum[0], warning = False) for datum in data]\n",
    "        var_seqs = zero_padding(preprocessed, self.max_length)\n",
    "        \n",
    "        embeds = self.embeddings(var_seqs)\n",
    "        hidden = self.fc1(embeds.view(batch_size, -1))\n",
    "        output = self.fc2(hidden)\n",
    "        return output"
   ]
  },
  {
   "cell_type": "code",
   "execution_count": 5,
   "metadata": {},
   "outputs": [
    {
     "ename": "NameError",
     "evalue": "name 'argparse' is not defined",
     "output_type": "error",
     "traceback": [
      "\u001b[0;31m---------------------------------------------------------------------------\u001b[0m",
      "\u001b[0;31mNameError\u001b[0m                                 Traceback (most recent call last)",
      "\u001b[0;32m<ipython-input-5-92f5c4cf5604>\u001b[0m in \u001b[0;36m<module>\u001b[0;34m()\u001b[0m\n\u001b[1;32m      1\u001b[0m \u001b[0;32mif\u001b[0m \u001b[0m__name__\u001b[0m\u001b[0;34m==\u001b[0m\u001b[0;34m'__main__'\u001b[0m\u001b[0;34m:\u001b[0m\u001b[0;34m\u001b[0m\u001b[0m\n\u001b[0;32m----> 2\u001b[0;31m     \u001b[0margs\u001b[0m\u001b[0;34m=\u001b[0m \u001b[0margparse\u001b[0m\u001b[0;34m.\u001b[0m\u001b[0mArgumentParser\u001b[0m\u001b[0;34m(\u001b[0m\u001b[0;34m)\u001b[0m\u001b[0;34m\u001b[0m\u001b[0m\n\u001b[0m\u001b[1;32m      3\u001b[0m     \u001b[0margs\u001b[0m\u001b[0;34m.\u001b[0m\u001b[0madd_argument\u001b[0m\u001b[0;34m(\u001b[0m\u001b[0;34m'--mode'\u001b[0m\u001b[0;34m,\u001b[0m\u001b[0mtype\u001b[0m \u001b[0;34m=\u001b[0m \u001b[0mstr\u001b[0m\u001b[0;34m,\u001b[0m \u001b[0mdefault\u001b[0m \u001b[0;34m=\u001b[0m \u001b[0;34m'train'\u001b[0m\u001b[0;34m)\u001b[0m\u001b[0;34m\u001b[0m\u001b[0m\n\u001b[1;32m      4\u001b[0m     \u001b[0margs\u001b[0m\u001b[0;34m.\u001b[0m\u001b[0madd_argument\u001b[0m\u001b[0;34m(\u001b[0m\u001b[0;34m'--mode'\u001b[0m\u001b[0;34m,\u001b[0m\u001b[0mtype\u001b[0m \u001b[0;34m=\u001b[0m \u001b[0mstr\u001b[0m\u001b[0;34m,\u001b[0m \u001b[0mdefault\u001b[0m \u001b[0;34m=\u001b[0m \u001b[0;34m'train'\u001b[0m\u001b[0;34m)\u001b[0m\u001b[0;34m\u001b[0m\u001b[0m\n\u001b[1;32m      5\u001b[0m     \u001b[0margs\u001b[0m\u001b[0;34m.\u001b[0m\u001b[0madd_argument\u001b[0m\u001b[0;34m(\u001b[0m\u001b[0;34m'--mode'\u001b[0m\u001b[0;34m,\u001b[0m\u001b[0mtype\u001b[0m \u001b[0;34m=\u001b[0m \u001b[0mstr\u001b[0m\u001b[0;34m,\u001b[0m \u001b[0mdefault\u001b[0m \u001b[0;34m=\u001b[0m \u001b[0;34m'train'\u001b[0m\u001b[0;34m)\u001b[0m\u001b[0;34m\u001b[0m\u001b[0m\n",
      "\u001b[0;31mNameError\u001b[0m: name 'argparse' is not defined"
     ]
    }
   ],
   "source": [
    "if __name__=='__main__':\n",
    "    args= argparse.ArgumentParser()\n",
    "    args.add_argument('--mode',type = str, default = 'train')\n",
    "    args.add_argument('--mode',type = str, default = 'train')\n",
    "    args.add_argument('--mode',type = str, default = 'train')\n",
    "    \n",
    "    args.add_argument('--mode',type = str, default = 'train')\n",
    "    args.add_argument('--mode',type = str, default = 'train')\n",
    "    args.add_argument('--mode',type = str, default = 'train')\n",
    "    args.add_argument('--mode',type = str, default = 'train')\n",
    "    args.add_argument('--mode',type = str, default = 'train')\n",
    "    \n",
    "    config = args.parse_args()\n",
    "    \n",
    "    model = Regression(config.embedding, config.strmaxlen)\n",
    "    \n",
    "    bind_model(model)\n",
    "    \n",
    "    criterion = nn.MSELoss()\n",
    "    optimizer = optim.Adam(model.parameters(), lr = 0.01)\n",
    "    \n",
    "    if config.pause:\n",
    "        nsml.paused(scope=locals())\n",
    "\n",
    "    if config.mode == 'train':\n",
    "        if not IS_DATASET:\n",
    "            DATASET_PATH = '../sample_data/movie_review/'\n",
    "        dataset = MoviewReviewDataset(DATASET_PATH)\n",
    "        train_loader = DataLoader(dataset = dataset, batch_size = config.batch,shuffle = True,num_workers = 2)\n",
    "\n",
    "        for epoch in range(config.epochs):\n",
    "            for i, (data, labels) in enumerate(train_loader):\n",
    "                predictions = model(data)\n",
    "                label_vars = Variable(torch.FloatTensor(labels))\n",
    "                loss = criterion(predictions, label_vars)\n",
    "\n",
    "                optimizer.zero_grad()\n",
    "                loss.backward()\n",
    "                optimizer.step()\n"
   ]
  },
  {
   "cell_type": "code",
   "execution_count": null,
   "metadata": {},
   "outputs": [],
   "source": []
  }
 ],
 "metadata": {
  "kernelspec": {
   "display_name": "Python 2",
   "language": "python",
   "name": "python2"
  },
  "language_info": {
   "codemirror_mode": {
    "name": "ipython",
    "version": 2
   },
   "file_extension": ".py",
   "mimetype": "text/x-python",
   "name": "python",
   "nbconvert_exporter": "python",
   "pygments_lexer": "ipython2",
   "version": "2.7.13"
  }
 },
 "nbformat": 4,
 "nbformat_minor": 2
}
