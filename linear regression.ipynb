{
 "cells": [
  {
   "cell_type": "markdown",
   "metadata": {},
   "source": [
    "linear regression"
   ]
  },
  {
   "cell_type": "code",
   "execution_count": 26,
   "metadata": {},
   "outputs": [
    {
     "name": "stdout",
     "output_type": "stream",
     "text": [
      "0 [0.6118199] [0.31391096] 0.07723098\n",
      "1 [0.46265092] [0.31002867] 0.03919548\n",
      "2 [0.35700732] [0.30737996] 0.020119037\n",
      "3 [0.28219083] [0.30550408] 0.010551384\n",
      "4 [0.229206] [0.30417562] 0.0057527893\n",
      "5 [0.1916823] [0.3032348] 0.0033460876\n",
      "6 [0.16510811] [0.3025685] 0.0021390233\n",
      "7 [0.14628835] [0.30209664] 0.001533628\n"
     ]
    }
   ],
   "source": [
    "import numpy as np\n",
    "import tensorflow as tf\n",
    "\n",
    "num_points = 1000\n",
    "vector_set = []\n",
    "\n",
    "for i in xrange(num_points):\n",
    "    x1 = np.random.normal(0.0,0.55)\n",
    "    y1 = x1*0.1+0.3+np.random.normal(0.0,0.03)\n",
    "    vector_set.append([x1,y1])\n",
    "\n",
    "x_data = [v[0] for v in vector_set]\n",
    "y_data = [v[1] for v in vector_set]\n",
    "\n",
    "w = tf.Variable(tf.random_uniform([1],-1.0,1.0))\n",
    "b = tf.Variable(tf.zeros([1]))\n",
    "y = w*x_data + b\n",
    "\n",
    "loss = tf.reduce_mean(tf.square(y-y_data))\n",
    "\n",
    "optimizer = tf.train.GradientDescentOptimizer(0.5)\n",
    "train = optimizer.minimize(loss)\n",
    "\n",
    "init = tf.tables_initializer()\n",
    "\n",
    "sess = tf.Session()\n",
    "sess.run(init)\n",
    "sess.run(tf.initialize_variables([v for v in tf.all_variables()]))\n",
    "         \n",
    "for step in xrange(8):\n",
    "    sess.run(train)\n",
    "    print step,sess.run(w),sess.run(b),sess.run(loss)"
   ]
  },
  {
   "cell_type": "code",
   "execution_count": null,
   "metadata": {},
   "outputs": [],
   "source": []
  }
 ],
 "metadata": {
  "kernelspec": {
   "display_name": "Python 2",
   "language": "python",
   "name": "python2"
  },
  "language_info": {
   "codemirror_mode": {
    "name": "ipython",
    "version": 2
   },
   "file_extension": ".py",
   "mimetype": "text/x-python",
   "name": "python",
   "nbconvert_exporter": "python",
   "pygments_lexer": "ipython2",
   "version": "2.7.13"
  }
 },
 "nbformat": 4,
 "nbformat_minor": 2
}
