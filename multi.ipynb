{
 "cells": [
  {
   "cell_type": "markdown",
   "metadata": {},
   "source": [
    "multi"
   ]
  },
  {
   "cell_type": "code",
   "execution_count": 4,
   "metadata": {},
   "outputs": [
    {
     "name": "stdout",
     "output_type": "stream",
     "text": [
      "0 [[-0.72252744  0.2494428  -0.34423202]] 7.191977\n",
      "1000 [[-0.3429601   0.3412576   0.39670575]] 0.007242801\n",
      "2000 [[-0.30757684  0.33753076  0.38773593]] 0.0070827357\n",
      "3000 [[-0.2999756   0.33680117  0.38574952]] 0.007075341\n",
      "4000 [[-0.29834124  0.33664447  0.38532227]] 0.0070749903\n",
      "5000 [[-0.29798943  0.3366105   0.38523048]] 0.007074982\n",
      "6000 [[-0.29791528  0.33660403  0.38521057]] 0.007074973\n",
      "7000 [[-0.2979044   0.33660284  0.38520786]] 0.0070749754\n",
      "8000 [[-0.2979044   0.33660284  0.38520786]] 0.0070749754\n",
      "9000 [[-0.2979044   0.33660284  0.38520786]] 0.0070749754\n"
     ]
    }
   ],
   "source": [
    "import tensorflow as tf\n",
    "\n",
    "x_data = [[1.0, 1.0, 1.0, 1.0, 1.0, 1.0, 1.0, 1.0, 1.0, 1.0],\n",
    "          [3.0, 1.1, 3.5, 2.5, 1.9, 2.8, 1.3, 3.3, 2.0, 1.0],\n",
    "          [3.2, 3.0, 3.6, 2.6, 0.6, 3.5, 2.1, 3.4, 2.8, 2.3]]\n",
    "y_data = [2.0, 1.3, 2.4, 1.5, 0.6, 2.0, 1.0, 2.0, 1.3, 0.9]\n",
    "\n",
    "W = tf.Variable(tf.random_uniform([1, 3], -1.0, 1.0))\n",
    "y = tf.matmul(W, x_data)\n",
    "\n",
    "loss = tf.reduce_mean(tf.square(y-y_data))\n",
    "#제곱 평균 y가 벡터이므로 각 요소마다 차이의 제곱\n",
    "optimizer = tf.train.GradientDescentOptimizer(0.01)\n",
    "#학습률 = 0.01\n",
    "train = optimizer.minimize(loss)\n",
    "\n",
    "init = tf.global_variables_initializer()\n",
    "sess = tf.Session()\n",
    "sess.run(init)\n",
    "\n",
    "for step in range(10000):\n",
    "    sess.run(train)\n",
    "    if step%1000 == 0:\n",
    "        print step,sess.run(W),sess.run(loss)"
   ]
  },
  {
   "cell_type": "code",
   "execution_count": null,
   "metadata": {},
   "outputs": [],
   "source": []
  }
 ],
 "metadata": {
  "kernelspec": {
   "display_name": "Python 2",
   "language": "python",
   "name": "python2"
  },
  "language_info": {
   "codemirror_mode": {
    "name": "ipython",
    "version": 2
   },
   "file_extension": ".py",
   "mimetype": "text/x-python",
   "name": "python",
   "nbconvert_exporter": "python",
   "pygments_lexer": "ipython2",
   "version": "2.7.13"
  }
 },
 "nbformat": 4,
 "nbformat_minor": 2
}
